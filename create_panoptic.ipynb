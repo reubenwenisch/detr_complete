{
 "cells": [
  {
   "cell_type": "markdown",
   "metadata": {},
   "source": [
    "## Infrence on dataset for panoptic"
   ]
  },
  {
   "cell_type": "code",
   "execution_count": 1,
   "metadata": {},
   "outputs": [
    {
     "name": "stderr",
     "output_type": "stream",
     "text": [
      "/home/wenisch/anaconda3/envs/detectron/lib/python3.9/site-packages/tqdm/auto.py:22: TqdmWarning: IProgress not found. Please update jupyter and ipywidgets. See https://ipywidgets.readthedocs.io/en/stable/user_install.html\n",
      "  from .autonotebook import tqdm as notebook_tqdm\n"
     ]
    }
   ],
   "source": [
    "from detectron2.utils.logger import setup_logger\n",
    "from detectron2.data import MetadataCatalog, DatasetCatalog\n",
    "setup_logger()\n",
    "\n",
    "train_json = \"./annotations/train_panoptic.json\"\n",
    "image_root = \"/home/wenisch/Atom360/AI/Learning/data/dataset/images\"\n",
    "\n",
    "logger = setup_logger(name=__name__)\n",
    "\n",
    "# # COCO classes\n",
    "# CLASSES = [ #'N/A', \n",
    "#     'person', 'bicycle', 'car', 'motorcycle', 'airplane', 'bus',\n",
    "#     'train', 'truck', 'boat', 'traffic light', 'fire hydrant', 'N/A',\n",
    "#     'stop sign', 'parking meter', 'bench', 'bird', 'cat', 'dog', 'horse',\n",
    "#     'sheep', 'cow', 'elephant', 'bear', 'zebra', 'giraffe', 'N/A', 'backpack',\n",
    "#     'umbrella', 'N/A', 'N/A', 'handbag', 'tie', 'suitcase', 'frisbee', 'skis',\n",
    "#     'snowboard', 'sports ball', 'kite', 'baseball bat', 'baseball glove',\n",
    "#     'skateboard', 'surfboard', 'tennis racket', 'bottle', 'N/A', 'wine glass',\n",
    "#     'cup', 'fork', 'knife', 'spoon', 'bowl', 'banana', 'apple', 'sandwich',\n",
    "#     'orange', 'broccoli', 'carrot', 'hot dog', 'pizza', 'donut', 'cake',\n",
    "#     'chair', 'couch', 'potted plant', 'bed', 'N/A', 'dining table', 'N/A',\n",
    "#     'N/A', 'toilet', 'N/A', 'tv', 'laptop', 'mouse', 'remote', 'keyboard',\n",
    "#     'cell phone', 'microwave', 'oven', 'toaster', 'sink', 'refrigerator', 'N/A',\n",
    "#     'book', 'clock', 'vase', 'scissors', 'teddy bear', 'hair drier',\n",
    "#     'toothbrush'\n",
    "# ]\n",
    "\n",
    "CLASSES = []"
   ]
  },
  {
   "cell_type": "code",
   "execution_count": 2,
   "metadata": {},
   "outputs": [
    {
     "name": "stdout",
     "output_type": "stream",
     "text": [
      "Meta test is :{'name': 'dataset_test', 'thing_classes': []}\n"
     ]
    }
   ],
   "source": [
    "from detectron2.data.datasets import register_coco_instances\n",
    "\n",
    "# MetadataCatalog.get(\"dataset_test\").set(thing_classes= CLASSES)\n",
    "meta_test = MetadataCatalog.get(\"dataset_test\")\n",
    "print(\"Meta test is :\"+ str(meta_test.as_dict()))\n",
    "register_coco_instances(\"dataset_test\", meta_test.as_dict(), train_json, image_root)"
   ]
  },
  {
   "cell_type": "code",
   "execution_count": 3,
   "metadata": {},
   "outputs": [
    {
     "ename": "ValueError",
     "evalue": "min() arg is an empty sequence",
     "output_type": "error",
     "traceback": [
      "\u001b[0;31m---------------------------------------------------------------------------\u001b[0m",
      "\u001b[0;31mValueError\u001b[0m                                Traceback (most recent call last)",
      "\u001b[1;32m/home/wenisch/Atom360/AI/Learning/algo/detr/create_panoptic.ipynb Cell 4'\u001b[0m in \u001b[0;36m<cell line: 5>\u001b[0;34m()\u001b[0m\n\u001b[1;32m      <a href='vscode-notebook-cell:/home/wenisch/Atom360/AI/Learning/algo/detr/create_panoptic.ipynb#ch0000003?line=1'>2</a>\u001b[0m \u001b[39mfrom\u001b[39;00m \u001b[39mdetectron2\u001b[39;00m\u001b[39m.\u001b[39;00m\u001b[39mutils\u001b[39;00m\u001b[39m.\u001b[39;00m\u001b[39mvisualizer\u001b[39;00m \u001b[39mimport\u001b[39;00m Visualizer\n\u001b[1;32m      <a href='vscode-notebook-cell:/home/wenisch/Atom360/AI/Learning/algo/detr/create_panoptic.ipynb#ch0000003?line=2'>3</a>\u001b[0m \u001b[39mfrom\u001b[39;00m \u001b[39mmatplotlib\u001b[39;00m \u001b[39mimport\u001b[39;00m pyplot \u001b[39mas\u001b[39;00m plt\n\u001b[0;32m----> <a href='vscode-notebook-cell:/home/wenisch/Atom360/AI/Learning/algo/detr/create_panoptic.ipynb#ch0000003?line=4'>5</a>\u001b[0m dataset_dicts_val \u001b[39m=\u001b[39m DatasetCatalog\u001b[39m.\u001b[39;49mget(\u001b[39m\"\u001b[39;49m\u001b[39mdataset_test\u001b[39;49m\u001b[39m\"\u001b[39;49m)\n\u001b[1;32m      <a href='vscode-notebook-cell:/home/wenisch/Atom360/AI/Learning/algo/detr/create_panoptic.ipynb#ch0000003?line=5'>6</a>\u001b[0m noneobjects \u001b[39m=\u001b[39m \u001b[39m0\u001b[39m\n\u001b[1;32m      <a href='vscode-notebook-cell:/home/wenisch/Atom360/AI/Learning/algo/detr/create_panoptic.ipynb#ch0000003?line=7'>8</a>\u001b[0m \u001b[39mfor\u001b[39;00m d \u001b[39min\u001b[39;00m random\u001b[39m.\u001b[39msample(dataset_dicts_val, \u001b[39m3\u001b[39m):\n",
      "File \u001b[0;32m~/anaconda3/envs/detectron/lib/python3.9/site-packages/detectron2/data/catalog.py:58\u001b[0m, in \u001b[0;36m_DatasetCatalog.get\u001b[0;34m(self, name)\u001b[0m\n\u001b[1;32m     <a href='file:///home/wenisch/anaconda3/envs/detectron/lib/python3.9/site-packages/detectron2/data/catalog.py?line=51'>52</a>\u001b[0m \u001b[39mexcept\u001b[39;00m \u001b[39mKeyError\u001b[39;00m \u001b[39mas\u001b[39;00m e:\n\u001b[1;32m     <a href='file:///home/wenisch/anaconda3/envs/detectron/lib/python3.9/site-packages/detectron2/data/catalog.py?line=52'>53</a>\u001b[0m     \u001b[39mraise\u001b[39;00m \u001b[39mKeyError\u001b[39;00m(\n\u001b[1;32m     <a href='file:///home/wenisch/anaconda3/envs/detectron/lib/python3.9/site-packages/detectron2/data/catalog.py?line=53'>54</a>\u001b[0m         \u001b[39m\"\u001b[39m\u001b[39mDataset \u001b[39m\u001b[39m'\u001b[39m\u001b[39m{}\u001b[39;00m\u001b[39m'\u001b[39m\u001b[39m is not registered! Available datasets are: \u001b[39m\u001b[39m{}\u001b[39;00m\u001b[39m\"\u001b[39m\u001b[39m.\u001b[39mformat(\n\u001b[1;32m     <a href='file:///home/wenisch/anaconda3/envs/detectron/lib/python3.9/site-packages/detectron2/data/catalog.py?line=54'>55</a>\u001b[0m             name, \u001b[39m\"\u001b[39m\u001b[39m, \u001b[39m\u001b[39m\"\u001b[39m\u001b[39m.\u001b[39mjoin(\u001b[39mlist\u001b[39m(\u001b[39mself\u001b[39m\u001b[39m.\u001b[39mkeys()))\n\u001b[1;32m     <a href='file:///home/wenisch/anaconda3/envs/detectron/lib/python3.9/site-packages/detectron2/data/catalog.py?line=55'>56</a>\u001b[0m         )\n\u001b[1;32m     <a href='file:///home/wenisch/anaconda3/envs/detectron/lib/python3.9/site-packages/detectron2/data/catalog.py?line=56'>57</a>\u001b[0m     ) \u001b[39mfrom\u001b[39;00m \u001b[39me\u001b[39;00m\n\u001b[0;32m---> <a href='file:///home/wenisch/anaconda3/envs/detectron/lib/python3.9/site-packages/detectron2/data/catalog.py?line=57'>58</a>\u001b[0m \u001b[39mreturn\u001b[39;00m f()\n",
      "File \u001b[0;32m~/anaconda3/envs/detectron/lib/python3.9/site-packages/detectron2/data/datasets/coco.py:500\u001b[0m, in \u001b[0;36mregister_coco_instances.<locals>.<lambda>\u001b[0;34m()\u001b[0m\n\u001b[1;32m    <a href='file:///home/wenisch/anaconda3/envs/detectron/lib/python3.9/site-packages/detectron2/data/datasets/coco.py?line=497'>498</a>\u001b[0m \u001b[39massert\u001b[39;00m \u001b[39misinstance\u001b[39m(image_root, (\u001b[39mstr\u001b[39m, os\u001b[39m.\u001b[39mPathLike)), image_root\n\u001b[1;32m    <a href='file:///home/wenisch/anaconda3/envs/detectron/lib/python3.9/site-packages/detectron2/data/datasets/coco.py?line=498'>499</a>\u001b[0m \u001b[39m# 1. register a function which returns dicts\u001b[39;00m\n\u001b[0;32m--> <a href='file:///home/wenisch/anaconda3/envs/detectron/lib/python3.9/site-packages/detectron2/data/datasets/coco.py?line=499'>500</a>\u001b[0m DatasetCatalog\u001b[39m.\u001b[39mregister(name, \u001b[39mlambda\u001b[39;00m: load_coco_json(json_file, image_root, name))\n\u001b[1;32m    <a href='file:///home/wenisch/anaconda3/envs/detectron/lib/python3.9/site-packages/detectron2/data/datasets/coco.py?line=501'>502</a>\u001b[0m \u001b[39m# 2. Optionally, add metadata about this dataset,\u001b[39;00m\n\u001b[1;32m    <a href='file:///home/wenisch/anaconda3/envs/detectron/lib/python3.9/site-packages/detectron2/data/datasets/coco.py?line=502'>503</a>\u001b[0m \u001b[39m# since they might be useful in evaluation, visualization or logging\u001b[39;00m\n\u001b[1;32m    <a href='file:///home/wenisch/anaconda3/envs/detectron/lib/python3.9/site-packages/detectron2/data/datasets/coco.py?line=503'>504</a>\u001b[0m MetadataCatalog\u001b[39m.\u001b[39mget(name)\u001b[39m.\u001b[39mset(\n\u001b[1;32m    <a href='file:///home/wenisch/anaconda3/envs/detectron/lib/python3.9/site-packages/detectron2/data/datasets/coco.py?line=504'>505</a>\u001b[0m     json_file\u001b[39m=\u001b[39mjson_file, image_root\u001b[39m=\u001b[39mimage_root, evaluator_type\u001b[39m=\u001b[39m\u001b[39m\"\u001b[39m\u001b[39mcoco\u001b[39m\u001b[39m\"\u001b[39m, \u001b[39m*\u001b[39m\u001b[39m*\u001b[39mmetadata\n\u001b[1;32m    <a href='file:///home/wenisch/anaconda3/envs/detectron/lib/python3.9/site-packages/detectron2/data/datasets/coco.py?line=505'>506</a>\u001b[0m )\n",
      "File \u001b[0;32m~/anaconda3/envs/detectron/lib/python3.9/site-packages/detectron2/data/datasets/coco.py:90\u001b[0m, in \u001b[0;36mload_coco_json\u001b[0;34m(json_file, image_root, dataset_name, extra_annotation_keys)\u001b[0m\n\u001b[1;32m     <a href='file:///home/wenisch/anaconda3/envs/detectron/lib/python3.9/site-packages/detectron2/data/datasets/coco.py?line=79'>80</a>\u001b[0m         meta\u001b[39m.\u001b[39mthing_classes \u001b[39m=\u001b[39m thing_classes\n\u001b[1;32m     <a href='file:///home/wenisch/anaconda3/envs/detectron/lib/python3.9/site-packages/detectron2/data/datasets/coco.py?line=81'>82</a>\u001b[0m         \u001b[39m# In COCO, certain category ids are artificially removed,\u001b[39;00m\n\u001b[1;32m     <a href='file:///home/wenisch/anaconda3/envs/detectron/lib/python3.9/site-packages/detectron2/data/datasets/coco.py?line=82'>83</a>\u001b[0m         \u001b[39m# and by convention they are always ignored.\u001b[39;00m\n\u001b[1;32m     <a href='file:///home/wenisch/anaconda3/envs/detectron/lib/python3.9/site-packages/detectron2/data/datasets/coco.py?line=83'>84</a>\u001b[0m         \u001b[39m# We deal with COCO's id issue and translate\u001b[39;00m\n\u001b[0;32m   (...)\u001b[0m\n\u001b[1;32m     <a href='file:///home/wenisch/anaconda3/envs/detectron/lib/python3.9/site-packages/detectron2/data/datasets/coco.py?line=87'>88</a>\u001b[0m         \u001b[39m# if users' own json also have incontiguous ids, we'll\u001b[39;00m\n\u001b[1;32m     <a href='file:///home/wenisch/anaconda3/envs/detectron/lib/python3.9/site-packages/detectron2/data/datasets/coco.py?line=88'>89</a>\u001b[0m         \u001b[39m# apply this mapping as well but print a warning.\u001b[39;00m\n\u001b[0;32m---> <a href='file:///home/wenisch/anaconda3/envs/detectron/lib/python3.9/site-packages/detectron2/data/datasets/coco.py?line=89'>90</a>\u001b[0m         \u001b[39mif\u001b[39;00m \u001b[39mnot\u001b[39;00m (\u001b[39mmin\u001b[39;49m(cat_ids) \u001b[39m==\u001b[39m \u001b[39m1\u001b[39m \u001b[39mand\u001b[39;00m \u001b[39mmax\u001b[39m(cat_ids) \u001b[39m==\u001b[39m \u001b[39mlen\u001b[39m(cat_ids)):\n\u001b[1;32m     <a href='file:///home/wenisch/anaconda3/envs/detectron/lib/python3.9/site-packages/detectron2/data/datasets/coco.py?line=90'>91</a>\u001b[0m             \u001b[39mif\u001b[39;00m \u001b[39m\"\u001b[39m\u001b[39mcoco\u001b[39m\u001b[39m\"\u001b[39m \u001b[39mnot\u001b[39;00m \u001b[39min\u001b[39;00m dataset_name:\n\u001b[1;32m     <a href='file:///home/wenisch/anaconda3/envs/detectron/lib/python3.9/site-packages/detectron2/data/datasets/coco.py?line=91'>92</a>\u001b[0m                 logger\u001b[39m.\u001b[39mwarning(\n\u001b[1;32m     <a href='file:///home/wenisch/anaconda3/envs/detectron/lib/python3.9/site-packages/detectron2/data/datasets/coco.py?line=92'>93</a>\u001b[0m                     \u001b[39m\"\"\"\u001b[39;00m\n\u001b[1;32m     <a href='file:///home/wenisch/anaconda3/envs/detectron/lib/python3.9/site-packages/detectron2/data/datasets/coco.py?line=93'>94</a>\u001b[0m \u001b[39mCategory ids in annotations are not in [1, #categories]! We'll apply a mapping for you.\u001b[39;00m\n\u001b[1;32m     <a href='file:///home/wenisch/anaconda3/envs/detectron/lib/python3.9/site-packages/detectron2/data/datasets/coco.py?line=94'>95</a>\u001b[0m \u001b[39m\"\"\"\u001b[39;00m\n\u001b[1;32m     <a href='file:///home/wenisch/anaconda3/envs/detectron/lib/python3.9/site-packages/detectron2/data/datasets/coco.py?line=95'>96</a>\u001b[0m                 )\n",
      "\u001b[0;31mValueError\u001b[0m: min() arg is an empty sequence"
     ]
    }
   ],
   "source": [
    "import os, json, cv2, random\n",
    "from detectron2.utils.visualizer import Visualizer\n",
    "from matplotlib import pyplot as plt\n",
    "\n",
    "dataset_dicts_val = DatasetCatalog.get(\"dataset_test\")\n",
    "noneobjects = 0\n",
    "\n",
    "for d in random.sample(dataset_dicts_val, 3):\n",
    "    img = cv2.imread(d[\"file_name\"])\n",
    "    if img is not None:\n",
    "        visualizer = Visualizer(img[:, :, ::-1], metadata=meta_test, scale=1)\n",
    "        out = visualizer.draw_dataset_dict(d)\n",
    "        #cv2_imshow(out.get_image()[:, :, ::-1])\n",
    "        plt.imshow(out.get_image())\n",
    "    else:\n",
    "        noneobjects += 1\n",
    "        print(\"File missing\"+ d[\"file_name\"])\n",
    "print(\"Number of Missing files \", noneobjects)"
   ]
  },
  {
   "cell_type": "code",
   "execution_count": null,
   "metadata": {},
   "outputs": [],
   "source": [
    "from detectron2.config import get_cfg\n",
    "from detectron2 import model_zoo\n",
    "from detectron2.engine import DefaultPredictor\n",
    "\n",
    "cfg = get_cfg()\n",
    "cfg.merge_from_file(model_zoo.get_config_file(\"COCO-PanopticSegmentation/panoptic_fpn_R_101_3x.yaml\"))\n",
    "cfg.MODEL.WEIGHTS = model_zoo.get_checkpoint_url(\"COCO-PanopticSegmentation/panoptic_fpn_R_101_3x.yaml\")\n",
    "cfg.MODEL.ROI_HEADS.SCORE_THRESH_TEST = 0.9   # set a custom testing threshold\n",
    "predictor = DefaultPredictor(cfg)"
   ]
  },
  {
   "cell_type": "code",
   "execution_count": null,
   "metadata": {},
   "outputs": [],
   "source": [
    "from detectron2.utils.visualizer import ColorMode\n",
    "for d in random.sample(dataset_dicts_val, 3):\n",
    "    im = cv2.imread(d[\"file_name\"])\n",
    "    # outputs = predictor(im)  # format is documented at https://detectron2.readthedocs.io/tutorials/models.html#model-output-format\n",
    "    panoptic_seg, segments_info = predictor(im)[\"panoptic_seg\"]\n",
    "    v = Visualizer(im[:, :, ::-1], MetadataCatalog.get(cfg.DATASETS.TRAIN[0]), scale=1.2)\n",
    "    out = v.draw_panoptic_seg_predictions(panoptic_seg.to(\"cpu\"), segments_info)\n",
    "    ids = [info['category_id'] for info in segments_info]\n",
    "    classes = [meta_test.thing_classes[id] for id in ids]\n",
    "    print(classes)\n",
    "    plt.figure(figsize = (20,20))\n",
    "    plt.imshow(out.get_image())"
   ]
  },
  {
   "cell_type": "code",
   "execution_count": null,
   "metadata": {},
   "outputs": [],
   "source": [
    "from detectron2.evaluation import COCOEvaluator, inference_on_dataset\n",
    "from detectron2.data import build_detection_test_loader\n",
    "evaluator = COCOEvaluator(\"dataset_test\", output_dir=\"./output\")\n",
    "val_loader = build_detection_test_loader(cfg, \"dataset_test\")\n",
    "print(inference_on_dataset(predictor.model, val_loader, evaluator))\n",
    "# another equivalent way to evaluate the model is to use `trainer.test`"
   ]
  },
  {
   "cell_type": "code",
   "execution_count": null,
   "metadata": {},
   "outputs": [],
   "source": []
  },
  {
   "cell_type": "code",
   "execution_count": null,
   "metadata": {},
   "outputs": [],
   "source": []
  }
 ],
 "metadata": {
  "interpreter": {
   "hash": "5787de90dc6edb3e0c660babebd2cd439473d15e5535aa779cdd9806e0dfdead"
  },
  "kernelspec": {
   "display_name": "Python 3.8.8 ('detectron')",
   "language": "python",
   "name": "python3"
  },
  "language_info": {
   "codemirror_mode": {
    "name": "ipython",
    "version": 3
   },
   "file_extension": ".py",
   "mimetype": "text/x-python",
   "name": "python",
   "nbconvert_exporter": "python",
   "pygments_lexer": "ipython3",
   "version": "3.9.12"
  },
  "orig_nbformat": 4
 },
 "nbformat": 4,
 "nbformat_minor": 2
}
