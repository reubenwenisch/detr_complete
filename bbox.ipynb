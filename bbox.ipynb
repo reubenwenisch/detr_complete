{
 "cells": [
  {
   "cell_type": "code",
   "execution_count": null,
   "metadata": {},
   "outputs": [],
   "source": [
    "image_id1 = 911\n",
    "image_id2 = 105\n",
    "image_id3 = 1395\n",
    "image_id4 = 1120\n",
    "image_id5 = 1390\n",
    "image_id6 = 689\n",
    "image_id7 = 1264\n",
    "image_id8 = 662\n"
   ]
  },
  {
   "cell_type": "code",
   "execution_count": null,
   "metadata": {},
   "outputs": [],
   "source": []
  }
 ],
 "metadata": {
  "language_info": {
   "name": "python"
  },
  "orig_nbformat": 4
 },
 "nbformat": 4,
 "nbformat_minor": 2
}
