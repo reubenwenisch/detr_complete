{
 "cells": [
  {
   "cell_type": "code",
   "execution_count": 1,
   "metadata": {},
   "outputs": [],
   "source": [
    "import glob\n",
    "from PIL import Image, ImageOps\n",
    "from src.atom_seg import *\n",
    "import cv2"
   ]
  },
  {
   "cell_type": "code",
   "execution_count": 2,
   "metadata": {},
   "outputs": [],
   "source": [
    "main_image = '0034302.jpg' #rebar\n",
    "root_path = '/home/wenisch/Atom360/AI/Learning/data/dataset/'\n",
    "# Label ids of the dataset\n",
    "category_ids = {\n",
    "    # \"outlier\": 0,\n",
    "    \"rebar\": 1,\n",
    "    \"spall\": 2,\n",
    "    \"crack\": 3,\n",
    "}"
   ]
  },
  {
   "cell_type": "code",
   "execution_count": 3,
   "metadata": {},
   "outputs": [],
   "source": [
    "image_id = 0\n",
    "annotations = []\n",
    "images = []\n",
    "main_img = Image.open(root_path+\"images/\"+ main_image)\n",
    "width, height = main_img.size\n",
    "# print(\"main_img.size\", main_img.size)\n",
    "# The mask image is *.png but the original image is *.jpg.\n",
    "# We make a reference to the original file in the COCO JSON file\n",
    "filename = os.path.basename(main_image).split(\".\")[0]\n",
    "image = create_image_annotation(filename, width, height, image_id)\n",
    "images.append(image)\n",
    "rebarmask_file = os.path.join(root_path, \"masks\",filename + 'rebar' + '.jpg')\n",
    "spallmask_file = os.path.join(root_path, \"masks\", filename + 'spall' + '.jpg')\n",
    "crackmask_file = os.path.join(root_path, \"masks\", filename + 'crack' + '.jpg')\n",
    "\n",
    "# rebarmask = np.zeros_like(main_img)\n",
    "# spallmask = np.zeros_like(main_img)\n",
    "# crackmask = np.zeros_like(main_img)\n",
    "# Open the image and (to be sure) we convert it to RGB\n",
    "thresh = 150\n",
    "fn = lambda x : 255 if x > thresh else 0\n",
    "# if os.path.exists(rebarmask_file):\n",
    "mask1 = cv2.imread(rebarmask_file)\n",
    "Conv_hsv_Gray = cv2.cvtColor(mask1, cv2.COLOR_BGR2GRAY)\n",
    "ret,rebarmask = cv2.threshold(Conv_hsv_Gray,127,255,cv2.THRESH_BINARY)\n",
    "category_id = category_ids[\"rebar\"]\n",
    "annotations.append(create_annotation_format2(rebarmask, category_id, image_id))\n",
    "# if os.path.exists(spallmask_file):\n",
    "#     mask2 = cv2.imread(spallmask_file)#.convert(\"1\")\n",
    "#     Conv_hsv_Gray = cv2.cvtColor(mask2, cv2.COLOR_BGR2GRAY)\n",
    "#     ret,spallmask = cv2.threshold(Conv_hsv_Gray,127,255,cv2.THRESH_BINARY)\n",
    "#     category_id = category_ids[\"spall\"]\n",
    "#     annotations.append(create_annotation_format2(spallmask, category_id, image_id))\n",
    "# if os.path.exists(crackmask_file):\n",
    "#     mask3 = cv2.imread(crackmask_file)#.convert(\"1\")\n",
    "#     Conv_hsv_Gray = cv2.cvtColor(mask3, cv2.COLOR_BGR2GRAY)\n",
    "#     ret,crackmask = cv2.threshold(Conv_hsv_Gray,127,255,cv2.THRESH_BINARY)\n",
    "#     category_id = category_ids[\"crack\"]\n",
    "#     annotations.append(create_annotation_format2(crackmask, category_id, image_id))"
   ]
  },
  {
   "cell_type": "code",
   "execution_count": 11,
   "metadata": {},
   "outputs": [
    {
     "data": {
      "text/plain": [
       "[array([  0., 201., 337., 268.]),\n",
       " array([216.,  61., 324., 220.]),\n",
       " array([  3.,   0., 100.,  63.])]"
      ]
     },
     "execution_count": 11,
     "metadata": {},
     "output_type": "execute_result"
    }
   ],
   "source": [
    "annotations[0]['bbox']"
   ]
  },
  {
   "cell_type": "code",
   "execution_count": 13,
   "metadata": {},
   "outputs": [
    {
     "data": {
      "text/plain": [
       "[0.0, 201.0, 337.0, 268.0]"
      ]
     },
     "execution_count": 13,
     "metadata": {},
     "output_type": "execute_result"
    }
   ],
   "source": [
    "annotations[0]['bbox'][0].tolist()"
   ]
  },
  {
   "cell_type": "code",
   "execution_count": null,
   "metadata": {},
   "outputs": [],
   "source": [
    "ground_truth_binary_mask= cv2.copyMakeBorder(rebarmask,1,1,1,1,cv2.BORDER_CONSTANT,value=black)\n",
    "fortran_ground_truth_binary_mask = np.asfortranarray(ground_truth_binary_mask)\n",
    "encoded_ground_truth = mask.encode(fortran_ground_truth_binary_mask)\n",
    "ground_truth_area = mask.area(encoded_ground_truth)\n",
    "ground_truth_bounding_box = mask.toBbox(encoded_ground_truth)\n",
    "contours = measure.find_contours(ground_truth_binary_mask, 0.5)\n",
    "bbox = ground_truth_bounding_box.tolist()\n",
    "bbox"
   ]
  },
  {
   "cell_type": "code",
   "execution_count": null,
   "metadata": {},
   "outputs": [],
   "source": [
    "type(encoded_ground_truth)"
   ]
  },
  {
   "cell_type": "code",
   "execution_count": null,
   "metadata": {},
   "outputs": [],
   "source": [
    "def encode_mask_to_poly(mask, mask_id, image_id):\n",
    "    if len(mask.shape) == 3:\n",
    "        mask = cv2.cvtColor(mask, cv2.COLOR_BGR2GRAY)\n",
    "\n",
    "    kernel = np.ones((2, 2), np.uint8)\n",
    "\n",
    "    mask = cv2.dilate(mask, kernel, iterations=1)\n",
    "    _, C, h = cv2.findContours(mask, cv2.RETR_EXTERNAL, cv2.CHAIN_APPROX_NONE)\n",
    "    seg = [[float(x) for x in contour.flatten()] for contour in C]\n",
    "    seg = [cont for cont in seg if len(cont) > 4]  # filter all polygons that are boxes\n",
    "    rle = mask.frPyObjects(seg, mask.shape[0], mask.shape[1])\n",
    "\n",
    "    return {\n",
    "        'area': float(sum(mask.area(rle))),\n",
    "        'bbox': list(mask.toBbox(rle)[0]),\n",
    "        'category_id': 1,\n",
    "        'id': mask_id,\n",
    "        'image_id': image_id,\n",
    "        'iscrowd': 0,\n",
    "        'segmentation': seg\n",
    "    }"
   ]
  },
  {
   "cell_type": "code",
   "execution_count": null,
   "metadata": {},
   "outputs": [],
   "source": [
    "# ground_truth_binary_mask.shape\n",
    "# fortran_ground_truth_binary_mask.shape\n"
   ]
  },
  {
   "cell_type": "code",
   "execution_count": null,
   "metadata": {},
   "outputs": [],
   "source": [
    "len(contours)"
   ]
  },
  {
   "cell_type": "code",
   "execution_count": null,
   "metadata": {},
   "outputs": [],
   "source": []
  }
 ],
 "metadata": {
  "interpreter": {
   "hash": "b1fba4fd74d59480c8732a5c9b6637dabef71547e1664ab4b6d38e4497ad398a"
  },
  "kernelspec": {
   "display_name": "Python 3 (ipykernel)",
   "language": "python",
   "name": "python3"
  },
  "language_info": {
   "codemirror_mode": {
    "name": "ipython",
    "version": 3
   },
   "file_extension": ".py",
   "mimetype": "text/x-python",
   "name": "python",
   "nbconvert_exporter": "python",
   "pygments_lexer": "ipython3",
   "version": "3.8.5"
  }
 },
 "nbformat": 4,
 "nbformat_minor": 2
}
